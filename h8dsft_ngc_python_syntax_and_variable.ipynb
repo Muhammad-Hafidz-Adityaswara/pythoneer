{
 "cells": [
  {
   "cell_type": "markdown",
   "metadata": {},
   "source": [
    "---\n",
    "\n",
    "Nama : Muhammad hafidz Adityaswara  \n",
    "Batch : HCK-12\n",
    "\n",
    "---"
   ]
  },
  {
   "cell_type": "markdown",
   "metadata": {},
   "source": [
    "# Task 1\n",
    "\n",
    "customer_id =   \n",
    "['B818', 'A461', 'A092', 'A082', 'B341', 'A005', 'A092', 'A461','B219',   \n",
    "'B904', 'A901', 'A083', 'B904', 'A092', 'B341', 'B821','B341', 'B821',   \n",
    "'B904', 'B818', 'A901', 'A083', 'B818', 'A082','B219', 'B219', 'A083',   \n",
    "'A901', 'A082', 'B341', 'B341', 'A083','A082', 'B219', 'B439', 'A461',   \n",
    "'A005', 'A901', 'B341', 'A082','A083', 'A461', 'A083', 'A901', 'A461',   \n",
    "'A083', 'A082', 'A083','B341', 'A901', 'A082', 'A461', 'B219', 'A083',   \n",
    "'B818', 'B821','A092', 'B341', 'A461', 'A092', 'A083', 'B821', 'A092']  \n",
    "  \n",
    "How many unique customer_id from above list?\n"
   ]
  },
  {
   "cell_type": "code",
   "execution_count": 17,
   "metadata": {},
   "outputs": [
    {
     "name": "stdout",
     "output_type": "stream",
     "text": [
      "12\n"
     ]
    }
   ],
   "source": [
    "customer_id = ['B818', 'A461', 'A092', 'A082', 'B341', 'A005',\n",
    "                'A092', 'A461','B219', 'B904', 'A901', 'A083',\n",
    "                'B904', 'A092', 'B341', 'B821','B341', 'B821',\n",
    "                'B904', 'B818', 'A901', 'A083', 'B818', 'A082',\n",
    "                'B219', 'B219', 'A083', 'A901', 'A082', 'B341',\n",
    "                'B341', 'A083','A082', 'B219', 'B439', 'A461',\n",
    "                'A005', 'A901', 'B341', 'A082','A083', 'A461',\n",
    "                'A083', 'A901', 'A461', 'A083', 'A082', 'A083',\n",
    "                'B341', 'A901', 'A082', 'A461', 'B219', 'A083',\n",
    "                'B818', 'B821','A092', 'B341', 'A461', 'A092', \n",
    "                'A083', 'B821', 'A092']\n",
    "\n",
    "customer_id = set(customer_id)\n",
    "print(len(customer_id))\n",
    "\n"
   ]
  },
  {
   "cell_type": "markdown",
   "metadata": {},
   "source": [
    "# Task 2\n",
    "\n",
    "Data = [1, 4, 9, 16, 25, 36, 49,  64, 81, 100]\n",
    "\n",
    "Use indexing so you can get this output:  \n",
    "a.16  \n",
    "b.[36, 49, 64, 81]  \n",
    "c.[100, 81, 64, 49, 36, 25, 16, 9, 4, 1]  \n"
   ]
  },
  {
   "cell_type": "code",
   "execution_count": 19,
   "metadata": {},
   "outputs": [
    {
     "name": "stdout",
     "output_type": "stream",
     "text": [
      "16\n",
      "[36, 49, 64, 81]\n",
      "[36, 49, 64, 81]\n",
      "[100, 81, 64, 49, 36, 25, 16, 9, 4, 1]\n"
     ]
    }
   ],
   "source": [
    "Data = [1, 4, 9, 16, 25, 36, 49,  64, 81, 100]\n",
    "\n",
    "# Soal a\n",
    "print(Data[3])\n",
    "\n",
    "# Soal b\n",
    "print(Data[5:9])\n",
    "print(Data[5:-1])\n",
    "\n",
    "# Soal c\n",
    "Data.sort(reverse=True)\n",
    "print(Data)"
   ]
  },
  {
   "cell_type": "markdown",
   "metadata": {},
   "source": [
    "# Task 3\n",
    "\n",
    "Given a dictionary of:  \n",
    "provinsi = {  \n",
    "    'Nanggroe Aceh Darussalam': 'Aceh',  \n",
    "    'Sumatera Selatan': 'Palembang',  \n",
    "    'Kalimantan Barat': 'Pontianak',  \n",
    "    'Jawa Timur': 'Madiun',  \n",
    "    'Sulawesi Selatan': 'Makassar',  \n",
    "    'Maluku': 'Ambon'}    \n",
    "      \n",
    "    What python command can be use to:  \n",
    "    a.Get list of keys available in dictionary  \n",
    "    b.Change 'Jawa Timur' value from 'Madiun'  to 'Surabaya'\n"
   ]
  },
  {
   "cell_type": "code",
   "execution_count": 23,
   "metadata": {},
   "outputs": [
    {
     "name": "stdout",
     "output_type": "stream",
     "text": [
      "['Nanggroe Aceh Darussalam', 'Sumatera Selatan', 'Kalimantan Barat', 'Jawa Timur', 'Sulawesi Selatan', 'Maluku']\n",
      "{'Nanggroe Aceh Darussalam': 'Aceh', 'Sumatera Selatan': 'Palembang', 'Kalimantan Barat': 'Pontianak', 'Jawa Timur': 'Surabaya', 'Sulawesi Selatan': 'Makassar', 'Maluku': 'Ambon'}\n"
     ]
    }
   ],
   "source": [
    "provinsi = {  \n",
    "    'Nanggroe Aceh Darussalam': 'Aceh',  \n",
    "    'Sumatera Selatan': 'Palembang',  \n",
    "    'Kalimantan Barat': 'Pontianak',  \n",
    "    'Jawa Timur': 'Madiun',  \n",
    "    'Sulawesi Selatan': 'Makassar',  \n",
    "    'Maluku': 'Ambon'\n",
    "    } \n",
    "\n",
    "# Soal a\n",
    "print(list(provinsi.keys()))\n",
    "\n",
    "# Soal b\n",
    "provinsi['Jawa Timur'] = 'Surabaya'\n",
    "print(provinsi)"
   ]
  }
 ],
 "metadata": {
  "kernelspec": {
   "display_name": "base",
   "language": "python",
   "name": "python3"
  },
  "language_info": {
   "codemirror_mode": {
    "name": "ipython",
    "version": 3
   },
   "file_extension": ".py",
   "mimetype": "text/x-python",
   "name": "python",
   "nbconvert_exporter": "python",
   "pygments_lexer": "ipython3",
   "version": "3.11.5"
  }
 },
 "nbformat": 4,
 "nbformat_minor": 2
}
