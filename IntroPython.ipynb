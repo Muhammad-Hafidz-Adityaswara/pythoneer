{
  "cells": [
    {
      "cell_type": "markdown",
      "metadata": {
        "id": "0gYOHY9DFk4B"
      },
      "source": [
        "# Introduction to Python\n",
        "\n",
        "- Variable\n",
        "- Data Type Primary\n",
        "  - Number\n",
        "    - Integer\n",
        "    - Float\n",
        "  - String\n",
        "  - Boolean\n",
        "- Data Type Array (Collections of Data)\n",
        "  - List\n",
        "  - Tuple\n",
        "  - Dictionary\n",
        "  - Set\n",
        "- Operation\n"
      ]
    },
    {
      "cell_type": "markdown",
      "metadata": {
        "id": "hOxhspEjsMB3"
      },
      "source": [
        "---\n",
        "\n",
        "Nama :  Muhammad Hafidz Adityaswara  \n",
        "Batch :  HCK-012\n",
        "\n",
        "---"
      ]
    },
    {
      "cell_type": "code",
      "execution_count": 2,
      "metadata": {
        "colab": {
          "base_uri": "https://localhost:8080/"
        },
        "id": "GDFs8DJ5r3J7",
        "outputId": "68a6a7c8-01a2-48ad-fc45-2397013030a9"
      },
      "outputs": [
        {
          "name": "stdout",
          "output_type": "stream",
          "text": [
            "HELLO\n"
          ]
        }
      ],
      "source": [
        "# Run this block code\n",
        "\n",
        "# Tampilkan Hello\n",
        "print(\"HELLO\")\n",
        "\n",
        "# SC : ctrl + /\n",
        "\n",
        "# print(\"WORLD\")"
      ]
    },
    {
      "cell_type": "markdown",
      "metadata": {
        "id": "dLKmJt2KJNDu"
      },
      "source": [
        "# Variable\n",
        "\n",
        "Rules dari membuat nama variable:\n",
        "- Dimulai dengan huruf\n",
        "- Perhatikan plural / singular jika dalam bahasa inggris\n",
        "- bisa camelCase, PascalCase, snake_case tidak kebab-case.\n",
        "\n",
        "\n",
        "Buatlah 3 variable yaitu:\n",
        "- variable name dan isi dengan namamu\n",
        "- variable favoriteNumber isi dengan angka kesukaanmu\n",
        "- variable isHungry dan isi True jika kamu lapar dann False jika kamu tidak lapar"
      ]
    },
    {
      "cell_type": "code",
      "execution_count": 5,
      "metadata": {
        "id": "vH5lUI0kqAxa"
      },
      "outputs": [],
      "source": [
        "# Code dibawah ini\n",
        "\n",
        "name = \"Hafidz\"\n",
        "favoriteNumber = 24\n",
        "isHungry = False\n"
      ]
    },
    {
      "cell_type": "markdown",
      "metadata": {
        "id": "LP6QVd2HqZiR"
      },
      "source": [
        "# Data Type Primary"
      ]
    },
    {
      "cell_type": "markdown",
      "metadata": {
        "id": "ria_IrJ1qRpl"
      },
      "source": [
        "## Data Type Number\n",
        "\n",
        "Terdapat Integer dan Float"
      ]
    },
    {
      "cell_type": "markdown",
      "metadata": {},
      "source": [
        "### Latihan Integer\n"
      ]
    },
    {
      "cell_type": "code",
      "execution_count": 9,
      "metadata": {
        "id": "Yc19bHtfqQ-9"
      },
      "outputs": [
        {
          "name": "stdout",
          "output_type": "stream",
          "text": [
            "24\n",
            "<class 'int'>\n",
            "True\n",
            "False\n",
            "50\n",
            "60\n",
            "=========\n",
            "54.0\n",
            "<class 'float'>\n"
          ]
        }
      ],
      "source": [
        "# Latihan kode disini (Ikuti dalam kelas)\n",
        "print(favoriteNumber)\n",
        "print(type(favoriteNumber))\n",
        "print(favoriteNumber == favoriteNumber) # == equal, > >= < <= , != not equal\n",
        "print(favoriteNumber == 100)\n",
        "\n",
        "favoriteNumber = 50 #Reassigment\n",
        "print(favoriteNumber)\n",
        "\n",
        "# Harus ada = untuk mengubah value\n",
        "favoriteNumber += 5 #55\n",
        "favoriteNumber = favoriteNumber +5 #60\n",
        "print(favoriteNumber)\n",
        "\n",
        "print(\"=========\")\n",
        "\n",
        "# favoriteNumber dikurangi 10%\n",
        "favoriteNumber = favoriteNumber - (favoriteNumber /10)\n",
        "print(favoriteNumber)\n",
        "print(type(favoriteNumber))"
      ]
    },
    {
      "cell_type": "markdown",
      "metadata": {},
      "source": [
        "### Latihan Float"
      ]
    },
    {
      "cell_type": "code",
      "execution_count": 10,
      "metadata": {},
      "outputs": [
        {
          "name": "stdout",
          "output_type": "stream",
          "text": [
            "54.0\n",
            "<class 'float'>\n",
            "54\n",
            "1\n",
            "1.5\n",
            "2.0\n",
            "3.2\n"
          ]
        }
      ],
      "source": [
        "print(favoriteNumber)\n",
        "print(type(favoriteNumber))\n",
        "print(int(favoriteNumber))  # Merubah data ke Integer (tambahkan 'int')\n",
        "\n",
        "tigaSetengah = 1.5\n",
        "print(int(tigaSetengah))\n",
        "print(float(tigaSetengah))\n",
        "\n",
        "\n",
        "tigaSetengah += 0.5\n",
        "print(tigaSetengah)\n",
        "\n",
        "decimalNumber = 3.16\n",
        "print(round(decimalNumber, 1))"
      ]
    },
    {
      "cell_type": "markdown",
      "metadata": {
        "id": "kN7khB5IqC7K"
      },
      "source": [
        "## Data Type String\n",
        "\n",
        "Peruntukannya untuk text dapat menggunakan kutip 1 atau 2 ' \""
      ]
    },
    {
      "cell_type": "code",
      "execution_count": 17,
      "metadata": {
        "id": "JErM3SdVFh9H"
      },
      "outputs": [
        {
          "name": "stdout",
          "output_type": "stream",
          "text": [
            "Hafidz\n",
            "<class 'str'>\n",
            "6\n",
            "Hafidz2 Adit \n",
            "13\n",
            "H\n",
            "a\n"
          ]
        }
      ],
      "source": [
        "# Latihan kode disini (Ikuti dalam kelas)\n",
        "name = \"Hafidz\"\n",
        "print(name)\n",
        "print(type(name))\n",
        "print(len(name))\n",
        "\n",
        "# Coba tambahkan angka ke string\n",
        "name += str(2)\n",
        "name += ' Adit ' #spasi dihitung str\n",
        "print(name)\n",
        "\n",
        "# Coba fungsi len dengan ada spasi \n",
        "print(len(name))\n",
        "\n",
        "# Coba akses character pertama dan kedua\n",
        "# Index dimulai dari 0\n",
        "print(name[0])\n",
        "print(name[1])"
      ]
    },
    {
      "cell_type": "code",
      "execution_count": null,
      "metadata": {},
      "outputs": [],
      "source": [
        "# Ada 2 nama disimpan pada variable boy dan girl, hitung berapa character kedua variable\n",
        "\n",
        "boy = \"Adam\" #4\n",
        "girl = \"hawa\" # 4 \n",
        "\n"
      ]
    },
    {
      "cell_type": "markdown",
      "metadata": {},
      "source": [
        "### String itu case sensitive"
      ]
    },
    {
      "cell_type": "code",
      "execution_count": 56,
      "metadata": {},
      "outputs": [
        {
          "name": "stdout",
          "output_type": "stream",
          "text": [
            "False\n",
            "1\n",
            "1\n",
            "False\n",
            "======\n",
            "Hafidz2 Adit \n",
            "HAFIDZ2 ADIT \n",
            "hafidz2 adit \n",
            " ayu sudi\n"
          ]
        }
      ],
      "source": [
        "print (1 == '1')\n",
        "print(1)\n",
        "print(\"1\")\n",
        "\n",
        "print(\"ayu\" == \"AYU\")\n",
        "\n",
        "print(\"======\")\n",
        "print(name)\n",
        "print(name.upper())\n",
        "print(name.lower())\n",
        "name = \" ayu sudi\"\n",
        "print(name.capitalize())\n",
        "############################################"
      ]
    },
    {
      "cell_type": "markdown",
      "metadata": {
        "id": "Wi4SejTIqb7o"
      },
      "source": [
        "## Data Type Boolean\n",
        "\n",
        "Yaitu True dan False"
      ]
    },
    {
      "cell_type": "code",
      "execution_count": null,
      "metadata": {
        "id": "reRugMYIqhQ0"
      },
      "outputs": [],
      "source": [
        "# Latihan kode disini (Ikuti dalam kelas)\n",
        "print(isHungry)\n",
        "# print(1 == True)\n",
        "# print(0 == False)\n",
        "\n"
      ]
    },
    {
      "cell_type": "code",
      "execution_count": 26,
      "metadata": {},
      "outputs": [
        {
          "name": "stdout",
          "output_type": "stream",
          "text": [
            "Hafidz2 Adit  False 54.0\n",
            "Namaku Hafidz2 Adit , angka favoritku adalah 54, Satatu lapar False.\n",
            "Namaku Hafidz2 Adit ,angka favoritku adalah 54.0 Satatu lapar False\n"
          ]
        }
      ],
      "source": [
        "print(name, isHungry, favoriteNumber)\n",
        "print(f\"Namaku {name}, angka favoritku adalah {int(favoriteNumber)}, Satatu lapar {isHungry}.\") #Rapih\n",
        "print(\"Namaku \" + name + \",angka favoritku adalah \" + str(favoriteNumber) + \" Satatu lapar \" + str(isHungry) )"
      ]
    },
    {
      "cell_type": "markdown",
      "metadata": {
        "id": "jnEuh5gQqkzn"
      },
      "source": [
        "# Data Type Array / Data Type For Collections of Data\n",
        "\n",
        "Kalo w3school menyebutkannya sebagai [Python Collections (Arrays)](https://www.w3schools.com/python/python_lists.asp#:~:text=Python%20Collections%20(Arrays)).\n",
        "\n",
        "----- note disini latihan menggunakaan markdown text yaa..\n",
        "\n"
      ]
    },
    {
      "cell_type": "markdown",
      "metadata": {},
      "source": [
        "## List  [ ]"
      ]
    },
    {
      "cell_type": "code",
      "execution_count": 27,
      "metadata": {},
      "outputs": [
        {
          "name": "stdout",
          "output_type": "stream",
          "text": [
            "['Bita', 'Niku', 'Riki', 'Ogi', 'Naufal']\n",
            "<class 'list'>\n",
            "Bita\n",
            "5\n",
            "['Bita', 'Niku', 'Ogi', 'Naufal', 'Ayu']\n",
            "Ayu\n",
            "Ayu\n",
            "Naufal\n"
          ]
        }
      ],
      "source": [
        "names = [\"Bita\", \"Niku\", \"Riki\" , \"Ogi\", \"Naufal\"]\n",
        "print(names)\n",
        "print(type(names))\n",
        "print(names[0])\n",
        "\n",
        "# Jumlah value/data/element dalam list\n",
        "print(len(names))\n",
        "\n",
        "# Hapus riki nari names\n",
        "names.remove(\"Riki\") # Menghapus dari list\n",
        "names.append(\"Ayu\") # Menampahkan list\n",
        "print(names)\n",
        "\n",
        "#Mengakses index terakhir\n",
        "#Cara 1\n",
        "n= len(names) -1\n",
        "print(names[n])\n",
        "\n",
        "# Cara 2 (Cepat)\n",
        "print(names[-1])\n",
        "print(names[-2])"
      ]
    },
    {
      "cell_type": "code",
      "execution_count": 28,
      "metadata": {},
      "outputs": [
        {
          "name": "stdout",
          "output_type": "stream",
          "text": [
            "[2000, 100, 5000, 100, 200]\n",
            "[100, 100, 200, 2000, 5000]\n",
            "[5000, 2000, 200, 100, 100]\n"
          ]
        }
      ],
      "source": [
        "numbers = [2000, 100, 5000, 100, 200]\n",
        "#pass references\n",
        "kumpulanAngka =numbers.copy() # Duplikat\n",
        "print(kumpulanAngka)\n",
        "\n",
        "# Default Ascending\n",
        "kumpulanAngka.sort()\n",
        "print(kumpulanAngka)\n",
        "\n",
        "#Descending\n",
        "kumpulanAngka.sort(reverse=True)\n",
        "print(kumpulanAngka)"
      ]
    },
    {
      "cell_type": "code",
      "execution_count": 29,
      "metadata": {},
      "outputs": [
        {
          "name": "stdout",
          "output_type": "stream",
          "text": [
            "[2000, 100, 5000, 100, 200]\n"
          ]
        }
      ],
      "source": [
        "print(numbers)"
      ]
    },
    {
      "cell_type": "markdown",
      "metadata": {},
      "source": [
        "### Pass References"
      ]
    },
    {
      "cell_type": "code",
      "execution_count": 35,
      "metadata": {},
      "outputs": [
        {
          "name": "stdout",
          "output_type": "stream",
          "text": [
            "['Sushi', 'Coklat', 'Kopi', 'Yakult']\n",
            "['Sushi', 'Coklat', 'Kopi', 'Yakult']\n"
          ]
        }
      ],
      "source": [
        "listMakanan = [\"Sushi\", \"Coklat\", \"Kopi\"]\n",
        "listMakananFavorite =listMakanan\n",
        "listMakananFavorite.append(\"Yakult\")\n",
        "# Keduanya Berubah\n",
        "print(listMakananFavorite)\n",
        "print(listMakanan)"
      ]
    },
    {
      "cell_type": "markdown",
      "metadata": {},
      "source": [
        "#Cara handle pass references"
      ]
    },
    {
      "cell_type": "code",
      "execution_count": 36,
      "metadata": {},
      "outputs": [
        {
          "name": "stdout",
          "output_type": "stream",
          "text": [
            "['Sushi', 'Coklat', 'Kopi', 'Yakult']\n",
            "['Sushi', 'Coklat', 'Kopi', 'Yakult', 'susu']\n"
          ]
        }
      ],
      "source": [
        "listMakananFavorite =listMakanan.copy()\n",
        "listMakananFavorite.append(\"susu\")\n",
        "# Keduanya Berubah\n",
        "print(listMakanan)\n",
        "print(listMakananFavorite)\n"
      ]
    },
    {
      "cell_type": "code",
      "execution_count": 37,
      "metadata": {},
      "outputs": [
        {
          "name": "stdout",
          "output_type": "stream",
          "text": [
            "['Coklat', 'Kopi']\n",
            "Coklat\n",
            "['Sushi', 'Coklat', 'Kopi']\n"
          ]
        }
      ],
      "source": [
        "print(listMakananFavorite[1:3])\n",
        "print(listMakananFavorite[1])\n",
        "print(listMakananFavorite[:3])"
      ]
    },
    {
      "cell_type": "markdown",
      "metadata": {},
      "source": [
        "## Tuple ()"
      ]
    },
    {
      "cell_type": "code",
      "execution_count": 42,
      "metadata": {},
      "outputs": [
        {
          "name": "stdout",
          "output_type": "stream",
          "text": [
            "('Ayu', 'Yuda', 'Riki', 'Sapta')\n",
            "<class 'tuple'>\n",
            "4\n"
          ]
        }
      ],
      "source": [
        "listInstructor =  (\"Ayu\", \"Yuda\", \"Riki\", \"Sapta\")\n",
        "print(listInstructor)\n",
        "print(type(listInstructor))\n",
        "print(len(listInstructor))"
      ]
    },
    {
      "cell_type": "markdown",
      "metadata": {},
      "source": [
        "### SET { }"
      ]
    },
    {
      "cell_type": "code",
      "execution_count": 43,
      "metadata": {},
      "outputs": [
        {
          "name": "stdout",
          "output_type": "stream",
          "text": [
            "{'Riki', 'Yuda', 'Sapta', 'Ayu'}\n",
            "<class 'set'>\n",
            "4\n"
          ]
        }
      ],
      "source": [
        "listInstructor =  set(listInstructor)\n",
        "print(listInstructor)\n",
        "print(type(listInstructor))\n",
        "print(len(listInstructor))"
      ]
    },
    {
      "cell_type": "markdown",
      "metadata": {},
      "source": [
        "### Dictionary { }"
      ]
    },
    {
      "cell_type": "code",
      "execution_count": 41,
      "metadata": {},
      "outputs": [
        {
          "name": "stdout",
          "output_type": "stream",
          "text": [
            "{'name': 'Luwy', 'age': 4, 'weight': 5.5, 'height': 50}\n",
            "4\n",
            "Luwy\n",
            "{'name': 'Luwy', 'age': 4, 'weight': 5.5, 'height': 50, 'isVaksin': True}\n",
            "{'name': 'Snowy', 'age': 4, 'weight': 5.5, 'height': 50, 'isVaksin': True}\n"
          ]
        }
      ],
      "source": [
        "persianCat =  {\n",
        "    'name' : 'Luwy',\n",
        "    'age' : 4,\n",
        "    'weight' : 5.5,\n",
        "    'height' : 50\n",
        "}\n",
        "\n",
        "print(persianCat)\n",
        "print(len(persianCat))\n",
        "\n",
        "# Akses value dengan keyname (bukan index)\n",
        "print(persianCat['name'])\n",
        "\n",
        "# Menambahkan keyname dan value baru\n",
        "persianCat['isVaksin'] = True\n",
        "print(persianCat)\n",
        "\n",
        "#Mengubah value (juka keyname tsb sudah ada)\n",
        "persianCat['name'] = 'Snowy'\n",
        "print(persianCat)"
      ]
    },
    {
      "cell_type": "markdown",
      "metadata": {},
      "source": [
        "# EXERCISE"
      ]
    },
    {
      "cell_type": "code",
      "execution_count": 55,
      "metadata": {},
      "outputs": [
        {
          "name": "stdout",
          "output_type": "stream",
          "text": [
            "A\n",
            "\n",
            "=======\n",
            "4\n",
            "\n",
            "=======\n",
            "revo ayu\n",
            "[100, 100, 90, 90, 50]\n",
            "100\n",
            "50\n"
          ]
        }
      ],
      "source": [
        "listAlphabet = [\n",
        "    ['A', 'B', 'C'],\n",
        "    ['D', 'E', 'F'],\n",
        "    ['G', 'H', 'I'],\n",
        "]\n",
        "\n",
        "print(listAlphabet[0][0])\n",
        "print()\n",
        "\n",
        "print(\"=======\")\n",
        "\n",
        "listAlphabet1 = [\n",
        "    ['0', 'Baba', 'Cici'],\n",
        "    ['1', 'Efa', 'Fafa'],\n",
        "    ['2', 'Hafidz', 'Iris'],\n",
        "]\n",
        "print(len(listAlphabet1[1][-1]))\n",
        "print()\n",
        "\n",
        "print(\"=======\")\n",
        "\n",
        "listHck12 = {\n",
        "    \"student\" : ['bita', 'revo', 'niku', 'samuel', 'panji', 'yuda'],\n",
        "    \"buddy\" : ['ayu', 'ayu', 'ayu', 'sapta', 'sapta', 'ayu'],\n",
        "    \"score\" : [100, 100, 90, 90, 50]\n",
        "}\n",
        "\n",
        "print(listHck12['student'][1], listHck12['buddy'][1])\n",
        "print(listHck12['score'])\n",
        "print(max(listHck12['score']))\n",
        "print(min(listHck12['score']))\n",
        "    \n"
      ]
    }
  ],
  "metadata": {
    "colab": {
      "provenance": []
    },
    "kernelspec": {
      "display_name": "Python 3",
      "name": "python3"
    },
    "language_info": {
      "codemirror_mode": {
        "name": "ipython",
        "version": 3
      },
      "file_extension": ".py",
      "mimetype": "text/x-python",
      "name": "python",
      "nbconvert_exporter": "python",
      "pygments_lexer": "ipython3",
      "version": "3.11.5"
    }
  },
  "nbformat": 4,
  "nbformat_minor": 0
}
