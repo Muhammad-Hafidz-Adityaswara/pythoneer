{
  "nbformat": 4,
  "nbformat_minor": 0,
  "metadata": {
    "colab": {
      "provenance": []
    },
    "kernelspec": {
      "name": "python3",
      "display_name": "Python 3"
    },
    "language_info": {
      "name": "python"
    }
  },
  "cells": [
    {
      "cell_type": "markdown",
      "source": [
        "# Introduction to Python\n",
        "\n",
        "- Variable\n",
        "- Data Type Primary\n",
        "  - Number\n",
        "    - Integer\n",
        "    - Float\n",
        "  - String\n",
        "  - Boolean\n",
        "- Data Type Array (Collections of Data)\n",
        "  - List\n",
        "  - Tuple\n",
        "  - Dictionary\n",
        "  - Set\n",
        "- Operation\n"
      ],
      "metadata": {
        "id": "0gYOHY9DFk4B"
      }
    },
    {
      "cell_type": "markdown",
      "source": [
        "---\n",
        "\n",
        "Nama :  \n",
        "Batch :  \n",
        "\n",
        "---"
      ],
      "metadata": {
        "id": "hOxhspEjsMB3"
      }
    },
    {
      "cell_type": "code",
      "source": [
        "# Run this block code\n",
        "print(\"HELLO\")\n",
        "\n",
        "# print(\"WORLD\")"
      ],
      "metadata": {
        "colab": {
          "base_uri": "https://localhost:8080/"
        },
        "id": "GDFs8DJ5r3J7",
        "outputId": "68a6a7c8-01a2-48ad-fc45-2397013030a9"
      },
      "execution_count": 1,
      "outputs": [
        {
          "output_type": "stream",
          "name": "stdout",
          "text": [
            "HELLO\n"
          ]
        }
      ]
    },
    {
      "cell_type": "markdown",
      "source": [
        "# Variable\n",
        "\n",
        "Rules dari membuat nama variable:\n",
        "- Dimulai dengan huruf\n",
        "- Perhatikan plural / singular jika dalam bahasa inggris\n",
        "- bisa camelCase, PascalCase, snake_case tidak kebab-case.\n",
        "\n",
        "\n",
        "Buatlah 3 variable yaitu:\n",
        "- variable name dan isi dengan namamu\n",
        "- variable favoriteNumber isi dengan angka kesukaanmu\n",
        "- variable isHungry dan isi True jika kamu lapar dann False jika kamu tidak lapar"
      ],
      "metadata": {
        "id": "dLKmJt2KJNDu"
      }
    },
    {
      "cell_type": "code",
      "source": [
        "# Code dibawah ini"
      ],
      "metadata": {
        "id": "vH5lUI0kqAxa"
      },
      "execution_count": null,
      "outputs": []
    },
    {
      "cell_type": "markdown",
      "source": [
        "# Data Type Primary"
      ],
      "metadata": {
        "id": "LP6QVd2HqZiR"
      }
    },
    {
      "cell_type": "markdown",
      "source": [
        "## Data Type Number\n",
        "\n",
        "Terdapat Integer dan Float"
      ],
      "metadata": {
        "id": "ria_IrJ1qRpl"
      }
    },
    {
      "cell_type": "code",
      "source": [
        "# Latihan kode disini (Ikuti dalam kelas)"
      ],
      "metadata": {
        "id": "Yc19bHtfqQ-9"
      },
      "execution_count": null,
      "outputs": []
    },
    {
      "cell_type": "markdown",
      "source": [
        "## Data Type String\n",
        "\n",
        "Peruntukannya untuk text dapat menggunakan kutip 1 atau 2 ' \""
      ],
      "metadata": {
        "id": "kN7khB5IqC7K"
      }
    },
    {
      "cell_type": "code",
      "execution_count": null,
      "metadata": {
        "id": "JErM3SdVFh9H"
      },
      "outputs": [],
      "source": [
        "# Latihan kode disini (Ikuti dalam kelas)"
      ]
    },
    {
      "cell_type": "markdown",
      "source": [
        "## Data Type Boolean\n",
        "\n",
        "Yaitu True dan False"
      ],
      "metadata": {
        "id": "Wi4SejTIqb7o"
      }
    },
    {
      "cell_type": "code",
      "source": [
        "# Latihan kode disini (Ikuti dalam kelas)"
      ],
      "metadata": {
        "id": "reRugMYIqhQ0"
      },
      "execution_count": null,
      "outputs": []
    },
    {
      "cell_type": "markdown",
      "source": [
        "# Data Type Array / Data Type For Collections of Data\n",
        "\n",
        "Kalo w3school menyebutkannya sebagai [Python Collections (Arrays)](https://www.w3schools.com/python/python_lists.asp#:~:text=Python%20Collections%20(Arrays)).\n",
        "\n",
        "----- note disini latihan menggunakaan markdown text yaa..\n",
        "\n"
      ],
      "metadata": {
        "id": "jnEuh5gQqkzn"
      }
    }
  ]
}